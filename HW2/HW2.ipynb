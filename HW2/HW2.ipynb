{
 "cells": [
  {
   "cell_type": "markdown",
   "metadata": {},
   "source": [
    "# Afonichev Demid SSE2019"
   ]
  },
  {
   "cell_type": "code",
   "execution_count": 1,
   "metadata": {},
   "outputs": [],
   "source": [
    "import pandas as pd\n",
    "import numpy as np\n",
    "import seaborn as sns"
   ]
  },
  {
   "cell_type": "code",
   "execution_count": 3,
   "metadata": {},
   "outputs": [
    {
     "data": {
      "text/html": [
       "<div>\n",
       "<style scoped>\n",
       "    .dataframe tbody tr th:only-of-type {\n",
       "        vertical-align: middle;\n",
       "    }\n",
       "\n",
       "    .dataframe tbody tr th {\n",
       "        vertical-align: top;\n",
       "    }\n",
       "\n",
       "    .dataframe thead th {\n",
       "        text-align: right;\n",
       "    }\n",
       "</style>\n",
       "<table border=\"1\" class=\"dataframe\">\n",
       "  <thead>\n",
       "    <tr style=\"text-align: right;\">\n",
       "      <th></th>\n",
       "      <th>Passenger Class</th>\n",
       "      <th>Name</th>\n",
       "      <th>Sex</th>\n",
       "      <th>Age</th>\n",
       "      <th>No of Siblings or Spouses on Board</th>\n",
       "      <th>No of Parents or Children on Board</th>\n",
       "      <th>Ticket Number</th>\n",
       "      <th>Passenger Fare</th>\n",
       "      <th>Cabin</th>\n",
       "      <th>Port of Embarkation</th>\n",
       "      <th>Life Boat</th>\n",
       "      <th>Survived</th>\n",
       "    </tr>\n",
       "  </thead>\n",
       "  <tbody>\n",
       "    <tr>\n",
       "      <th>0</th>\n",
       "      <td>First</td>\n",
       "      <td>Allen, Miss. Elisabeth Walton</td>\n",
       "      <td>Female</td>\n",
       "      <td>29.0000</td>\n",
       "      <td>0</td>\n",
       "      <td>0</td>\n",
       "      <td>24160</td>\n",
       "      <td>211.3375</td>\n",
       "      <td>B5</td>\n",
       "      <td>Southampton</td>\n",
       "      <td>2</td>\n",
       "      <td>Yes</td>\n",
       "    </tr>\n",
       "    <tr>\n",
       "      <th>1</th>\n",
       "      <td>First</td>\n",
       "      <td>Allison, Master. Hudson Trevor</td>\n",
       "      <td>Male</td>\n",
       "      <td>0.9167</td>\n",
       "      <td>1</td>\n",
       "      <td>2</td>\n",
       "      <td>113781</td>\n",
       "      <td>151.5500</td>\n",
       "      <td>C22 C26</td>\n",
       "      <td>Southampton</td>\n",
       "      <td>11</td>\n",
       "      <td>Yes</td>\n",
       "    </tr>\n",
       "    <tr>\n",
       "      <th>2</th>\n",
       "      <td>First</td>\n",
       "      <td>Allison, Miss. Helen Loraine</td>\n",
       "      <td>Female</td>\n",
       "      <td>2.0000</td>\n",
       "      <td>1</td>\n",
       "      <td>2</td>\n",
       "      <td>113781</td>\n",
       "      <td>151.5500</td>\n",
       "      <td>C22 C26</td>\n",
       "      <td>Southampton</td>\n",
       "      <td>NaN</td>\n",
       "      <td>No</td>\n",
       "    </tr>\n",
       "    <tr>\n",
       "      <th>3</th>\n",
       "      <td>First</td>\n",
       "      <td>Allison, Mr. Hudson Joshua Creighton</td>\n",
       "      <td>Male</td>\n",
       "      <td>30.0000</td>\n",
       "      <td>1</td>\n",
       "      <td>2</td>\n",
       "      <td>113781</td>\n",
       "      <td>151.5500</td>\n",
       "      <td>C22 C26</td>\n",
       "      <td>Southampton</td>\n",
       "      <td>NaN</td>\n",
       "      <td>No</td>\n",
       "    </tr>\n",
       "    <tr>\n",
       "      <th>4</th>\n",
       "      <td>First</td>\n",
       "      <td>Allison, Mrs. Hudson J C (Bessie Waldo Daniels)</td>\n",
       "      <td>Female</td>\n",
       "      <td>25.0000</td>\n",
       "      <td>1</td>\n",
       "      <td>2</td>\n",
       "      <td>113781</td>\n",
       "      <td>151.5500</td>\n",
       "      <td>C22 C26</td>\n",
       "      <td>Southampton</td>\n",
       "      <td>NaN</td>\n",
       "      <td>No</td>\n",
       "    </tr>\n",
       "  </tbody>\n",
       "</table>\n",
       "</div>"
      ],
      "text/plain": [
       "  Passenger Class                                             Name     Sex  \\\n",
       "0           First                    Allen, Miss. Elisabeth Walton  Female   \n",
       "1           First                   Allison, Master. Hudson Trevor    Male   \n",
       "2           First                     Allison, Miss. Helen Loraine  Female   \n",
       "3           First             Allison, Mr. Hudson Joshua Creighton    Male   \n",
       "4           First  Allison, Mrs. Hudson J C (Bessie Waldo Daniels)  Female   \n",
       "\n",
       "       Age  No of Siblings or Spouses on Board  \\\n",
       "0  29.0000                                   0   \n",
       "1   0.9167                                   1   \n",
       "2   2.0000                                   1   \n",
       "3  30.0000                                   1   \n",
       "4  25.0000                                   1   \n",
       "\n",
       "   No of Parents or Children on Board Ticket Number  Passenger Fare    Cabin  \\\n",
       "0                                   0         24160        211.3375       B5   \n",
       "1                                   2        113781        151.5500  C22 C26   \n",
       "2                                   2        113781        151.5500  C22 C26   \n",
       "3                                   2        113781        151.5500  C22 C26   \n",
       "4                                   2        113781        151.5500  C22 C26   \n",
       "\n",
       "  Port of Embarkation Life Boat Survived  \n",
       "0         Southampton         2      Yes  \n",
       "1         Southampton        11      Yes  \n",
       "2         Southampton       NaN       No  \n",
       "3         Southampton       NaN       No  \n",
       "4         Southampton       NaN       No  "
      ]
     },
     "execution_count": 3,
     "metadata": {},
     "output_type": "execute_result"
    }
   ],
   "source": [
    "titanic = pd.read_csv('data/titanic.csv')\n",
    "titanic.head()"
   ]
  },
  {
   "cell_type": "markdown",
   "metadata": {},
   "source": [
    "\n",
    "## Start with basic EDA (Exploratory data analysis): \n",
    "- Compute average `Age` of passengers and number of passengers who survived and not survived grouped by `Sex` and `Passenger Class` (24 numbers);\n",
    "- What can you say about survivors based on the resulting table (open question), e.g. what is the surviving ratio for females in First class compared to the Second and Third? *This answer is limited to 150 words.*\n",
    "- What is the average number of males and females on all boats (rounded to the closest integer)? *Do not forget to filter out all `?` in `Life Boat` attribute.*"
   ]
  },
  {
   "cell_type": "markdown",
   "metadata": {},
   "source": [
    "## Proceed with feature generation.\n",
    "- Drop the column `Life Boat`.\n",
    "- Generate new attribute `Family size` (sum up `No of Parents or Children on Board` and `No of Siblings or Spouses on Board`). What is the average family size? In which class did the biggest family travel?\n",
    "Do not drop original attributes.\n",
    "- It seems that `Passenger Fare` is total among all passengers with the same `Ticket Number`: create new attribute `Single passenger fare`. For every passenger you need to compute the number of passengers with the same `Ticket Number` and then use this number as a divisor for `Passenger Fare`. *Do not drop the original attribute.*\n",
    "- Impute missing values: for numerical attributes use averaging over three groups: `Passenger Class`, `Sex`, `Embarkation Port`; for every numerical attribute create separate column that contain 1 for imputed value and 0 for originally presented. \n",
    "- Pre-process categorical attributes: For every categorical attribute create a separate column that contains 1 for imputed value and 0 for originally presented. One-hot encode categorical attributes with less than 20 unique values, drop other categorical attributes; drop original attributes. \n",
    "- Set the role of the `Survived` attribute to `label`."
   ]
  },
  {
   "cell_type": "markdown",
   "metadata": {},
   "source": [
    "## Finish by building a classification model using preprocessed data\n",
    "- Compute classification accuracy on a train-test setup:\n",
    "    - Create a Cross Validation block, fix the random_state parameter to 2020.\n",
    "    - Use a decision tree with `maximal depth` = 7; uncheck `apply pruning` box; leave all other parameters by default.\n",
    "    - Use accuracy as a performance metric\n",
    "- Analyze the resulting confusion matrix, which error is larger: Type I or Type II? \n",
    "- Provide a short analysis of the results, based on your answers III.2-III.3. E.g. What are the splitting features of the first 3 levels of the best tree (up to 7 attributes)? Do these results coincide with your intuition? You may include some misclassified examples along with explanations why they were misclassified. *This answer is limited to 250 words.*"
   ]
  },
  {
   "cell_type": "code",
   "execution_count": null,
   "metadata": {},
   "outputs": [],
   "source": []
  }
 ],
 "metadata": {
  "kernelspec": {
   "display_name": "Python 3",
   "language": "python",
   "name": "python3"
  },
  "language_info": {
   "codemirror_mode": {
    "name": "ipython",
    "version": 3
   },
   "file_extension": ".py",
   "mimetype": "text/x-python",
   "name": "python",
   "nbconvert_exporter": "python",
   "pygments_lexer": "ipython3",
   "version": "3.7.2"
  }
 },
 "nbformat": 4,
 "nbformat_minor": 4
}
